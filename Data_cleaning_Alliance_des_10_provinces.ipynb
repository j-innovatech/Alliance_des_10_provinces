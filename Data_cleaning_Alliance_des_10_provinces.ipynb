{
  "nbformat": 4,
  "nbformat_minor": 0,
  "metadata": {
    "colab": {
      "provenance": [],
      "authorship_tag": "ABX9TyOKbWUBoCGbe1IbVzxmiu0R",
      "include_colab_link": true
    },
    "kernelspec": {
      "name": "python3",
      "display_name": "Python 3"
    },
    "language_info": {
      "name": "python"
    }
  },
  "cells": [
    {
      "cell_type": "markdown",
      "metadata": {
        "id": "view-in-github",
        "colab_type": "text"
      },
      "source": [
        "<a href=\"https://colab.research.google.com/github/j-innovatech/Alliance_des_10_provinces/blob/main/Data_cleaning_Alliance_des_10_provinces.ipynb\" target=\"_parent\"><img src=\"https://colab.research.google.com/assets/colab-badge.svg\" alt=\"Open In Colab\"/></a>"
      ]
    },
    {
      "cell_type": "markdown",
      "source": [
        "Data cleaning for Alliance des 10 provinces dataset\n",
        "==============\n",
        "\n",
        "This notebook process the data from Heurist for further analysis of in J-innvovatech's Salt Alliance project.\n",
        "\n",
        "This is for a publication proposal for a data paper on ...\n",
        "\n",
        "Author:\n",
        "Hiroki Yamashita (Sciences Po)\n",
        "\n",
        "This code is constructed in the following way.\n",
        "\n",
        "1. Load two json files from the Heurist database. One for meetings and one for actors.\n",
        "2. Split raws of the meeting data so that each raw contains only one actor\n",
        "3. Merge data with actor data so that thier Japanese names as well as domains and provinces are in the data.\n",
        "4. Calculate the number of the time an actor had been to meetings and make a column\n",
        "5. Save the new dataframe in CSV format"
      ],
      "metadata": {
        "id": "AUPiGj4lj9i9"
      }
    },
    {
      "cell_type": "code",
      "execution_count": 1,
      "metadata": {
        "id": "ZjZzqMRd2tp7"
      },
      "outputs": [],
      "source": [
        "# Import necessary packages\n",
        "import pandas as pd\n",
        "import re\n",
        "import json"
      ]
    },
    {
      "cell_type": "markdown",
      "source": [
        "## Load data\n",
        "The following block loads the data from the github repository of J-innovatech at the following adress:\n",
        "https://github.com/j-innovatech/Alliance_des_10_provinces\n"
      ],
      "metadata": {
        "id": "iyVOdCfiEVEc"
      }
    },
    {
      "cell_type": "code",
      "source": [
        "! git clone https://github.com/j-innovatech/Alliance_des_10_provinces\n",
        "path1 = \"./Alliance_des_10_provinces/data/Meetings.json\"\n",
        "path2 = \"./Alliance_des_10_provinces/data/Actors.json\""
      ],
      "metadata": {
        "id": "EGWyxBWo3Mm3"
      },
      "execution_count": null,
      "outputs": []
    },
    {
      "cell_type": "code",
      "source": [
        "#Place of Meetings\n",
        "DictMeetingPlace={\n",
        "    \"An.yōji - 安養寺\":\"Aki\",\n",
        "    \"Itsukushima - 厳島\":\"Aki\",\n",
        "    \"Yuga-san - 瑜伽山（由加山）\":\"Bizen\",\n",
        "    \"Marugame - 丸亀\":\"Sanuki\"\n",
        "}"
      ],
      "metadata": {
        "id": "LfKo1bbS2MvQ"
      },
      "execution_count": 3,
      "outputs": []
    },
    {
      "cell_type": "code",
      "source": [
        "# Creating a dataframe for meetings from json file\n",
        "\n",
        "# Opening JSON file\n",
        "f = open(path1)\n",
        "data = json.load(f)\n",
        "\n",
        "# Columns for the dataframe\n",
        "Meetings=[]\n",
        "Actors=[]\n",
        "DatesJP = [] #field name \"Date(s)\"\n",
        "Datedebut=[] #field name \"Date greg\"\n",
        "Datefin=[] #field name \"Date greg\"\n",
        "DateYears=[]\n",
        "MeetingPlacesFR = [] #field name \"Lieux de réunion\"\n",
        "MeetingPlacesJP = [] #field name \"Lieux de réunion\"\n",
        "MeetingProvinces =[]\n",
        "Sources=[] #field name \"Sources\"\n",
        "\n",
        "#Loop for each meeting\n",
        "for meeting in data[\"heurist\"][\"records\"]:\n",
        "  MeetingParticipants=[]\n",
        "  #Erasing the indent, \\n\n",
        "  MeetingsWithoutIndent =re.sub(\"[\\n]+\",\" \",meeting[\"rec_Title\"])\n",
        "  Meetings.append(MeetingsWithoutIndent)\n",
        "\n",
        "  #Loop for additional information on meeting\n",
        "  for detail in meeting[\"details\"]:\n",
        "    if detail[\"fieldName\"]==\"Acteur\":\n",
        "      #Erasing the indent, \\n\n",
        "      NameWithoutIndent =re.sub(\"[\\n]+\",\" \",detail[\"value\"][\"title\"])\n",
        "      MeetingParticipants.append(NameWithoutIndent)\n",
        "\n",
        "    #\"Date(s)\"\n",
        "    if detail[\"fieldName\"]==\"Date(s)\":\n",
        "      #Erasing the indent, \\n\n",
        "      DateJPWithoutIndent =re.sub(\"[\\n]+\",\" \",detail[\"value\"][\"title\"])\n",
        "      DatesJP.append(DateJPWithoutIndent)\n",
        "\n",
        "    #\"Date greg\"\n",
        "    if detail[\"fieldName\"]==\"Date greg\":\n",
        "      if isinstance(detail[\"value\"],dict):\n",
        "        Datedebut.append(detail[\"value\"][\"start\"][\"earliest\"])\n",
        "        Datefin.append(detail[\"value\"][\"end\"][\"latest\"])\n",
        "        DateYear = re.findall(r\"([0-9]{4})\",detail[\"value\"][\"start\"][\"earliest\"])[0]\n",
        "        DateYears.append(DateYear)\n",
        "\n",
        "      else:\n",
        "        Datedebut.append(detail[\"value\"])\n",
        "        Datefin.append(detail[\"value\"])\n",
        "        DateYear = re.findall(r\"([0-9]{4})\",detail[\"value\"])[0]\n",
        "        DateYears.append(DateYear)\n",
        "\n",
        "    #\"Lieux de réunion\"\n",
        "    if detail[\"fieldName\"]==\"Lieux de réunion\":\n",
        "      MeetingPlacesFR.append(detail[\"value\"][\"title\"].split(\" - \")[0])\n",
        "      MeetingPlacesJP.append(detail[\"value\"][\"title\"].split(\" - \")[1])\n",
        "      MeetingProvinces.append(DictMeetingPlace[detail[\"value\"][\"title\"]])\n",
        "\n",
        "    #\"Sources\"\n",
        "    if detail[\"fieldName\"]==\"Sources\":\n",
        "      Sources.append(detail[\"value\"][\"title\"])\n",
        "\n",
        "  #Append the list of participants for a meeting\n",
        "  Actors.append(MeetingParticipants)\n",
        "\n",
        "df = pd.DataFrame(list(zip(Actors,Meetings,DatesJP,DateYears,Datedebut,Datefin,MeetingPlacesFR,MeetingPlacesJP,MeetingProvinces,Sources)),\n",
        "               columns =['Acteur', \"Description événement\",\"Date JP\",\"Année\",\"Date de debut greg\",\"Date de fin greg\",\"Lieux de réunion FR\",\"Lieux de réunion JP\",\"Province de réunion\",\"Sources\"])\n",
        "\n",
        "#Split raws by actors\n",
        "df =df.explode(\"Acteur\",ignore_index=True)\n",
        "\n",
        "#close the json file\n",
        "f.close()"
      ],
      "metadata": {
        "id": "uApJ2WNnuFne"
      },
      "execution_count": 7,
      "outputs": []
    },
    {
      "cell_type": "code",
      "source": [
        "# Creating a dataframe for actors from json file\n",
        "\n",
        "# Opening JSON file of actors\n",
        "f = open(path2)\n",
        "data = json.load(f)\n",
        "\n",
        "# List of actors who went to at least one meeting\n",
        "Actorslist=list(df[\"Acteur\"].value_counts().index)\n",
        "\n",
        "# Columns for the dataframe\n",
        "Actors=[]\n",
        "Domains=[] #field name \"Province ou domaine associé\"\n",
        "Provinces=[] #field name \"Province ou domaine associé\"\n",
        "NameFR =[] #field name \"Nom acteur fr\"\n",
        "NameJP = [] #field name \"Nom acteur JP\"\n",
        "StatusFR1=[]#field name \"Statut de l'acteur\"\n",
        "StatusJP1=[]#field name \"Statut de l'acteur\"\n",
        "StatusFR2=[]#field name \"Statut de l'acteur\"\n",
        "StatusJP2=[]#field name \"Statut de l'acteur\"\n",
        "AssociatedSitesFR1 = [] #field name \"Site associé\"\n",
        "AssociatedSitesJP1= [] #field name \"Site associé\"\n",
        "AssociatedSitesFR2 = [] #field name \"Site associé\"\n",
        "AssociatedSitesJP2 = [] #field name \"Site associé\"\n",
        "AssociatedSitesFR3 = [] #field name \"Site associé\"\n",
        "AssociatedSitesJP3= [] #field name \"Site associé\"\n",
        "\n",
        "#Loop each actor\n",
        "for actor in data[\"heurist\"][\"records\"]:\n",
        "  #Erasing the indent, \\n\n",
        "  NameWithoutIndent =re.sub(\"[\\n]+\",\" \",actor[\"rec_Title\"])\n",
        "\n",
        "  #Put actor data only if the actor has attended to the meeting in the meeting list\n",
        "  if NameWithoutIndent in Actorslist:\n",
        "    Actors.append(NameWithoutIndent)\n",
        "    #Counter for the number of associated sites and status\n",
        "    Sitecount=0\n",
        "    Statuscount=0\n",
        "\n",
        "    for detail in actor[\"details\"]:\n",
        "      #\"Province ou domaine associé\"\n",
        "      if detail[\"fieldName\"]== \"Province ou domaine associé\":\n",
        "        Domains.append(re.findall(r\"Hiroshima|Tokushima|Okayama|Hagi|Himeji|Ehime|Iwakuni|Matsuyama|Marugame|Takamatsu|Akō\",detail[\"value\"])[0])\n",
        "        Provinces.append(re.findall(r\"Bizen|Iyo|Suō|Awa|Aki|Bizen|Bingo|Settsu|Nagato|Harima|Awaji|Sanuki|Tosa\",detail[\"value\"])[0])\n",
        "\n",
        "      #'Nom acteur fr'\n",
        "      if detail[\"fieldName\"]== \"Nom acteur fr\":\n",
        "        NameFR.append(detail[\"value\"])\n",
        "\n",
        "      #'Nom acteur JP'\n",
        "      if detail[\"fieldName\"] == \"Nom acteur jap\":\n",
        "        NameJP.append(detail[\"value\"])\n",
        "\n",
        "      #'Statut de l'acteur'\n",
        "      if detail[\"fieldName\"] == \"Statut de l'acteur\":\n",
        "        Statuscount+=1\n",
        "\n",
        "        if Statuscount== 1:\n",
        "          StatusFR1.append(detail[\"value\"][\"title\"].split(\" - \")[0])\n",
        "          StatusJP1.append(detail[\"value\"][\"title\"].split(\" - \")[1])\n",
        "        if Statuscount== 2:\n",
        "          StatusFR2.append(detail[\"value\"][\"title\"].split(\" - \")[0])\n",
        "          StatusJP2.append(detail[\"value\"][\"title\"].split(\" - \")[1])\n",
        "\n",
        "      #'Site associé'\n",
        "      if detail[\"fieldName\"] == \"Site associé\":\n",
        "        Sitecount+=1\n",
        "\n",
        "        # Put the name of the production site depending on the number of sites for an actor\n",
        "        if Sitecount== 1:\n",
        "          AssociatedSitesFR1.append(detail[\"value\"][\"title\"].split(\" - \")[0])\n",
        "          AssociatedSitesJP1.append(detail[\"value\"][\"title\"].split(\" - \")[1])\n",
        "        if Sitecount== 2:\n",
        "          AssociatedSitesFR2.append(detail[\"value\"][\"title\"].split(\" - \")[0])\n",
        "          AssociatedSitesJP2.append(detail[\"value\"][\"title\"].split(\" - \")[1])\n",
        "        if Sitecount== 3:\n",
        "          AssociatedSitesFR3.append(detail[\"value\"][\"title\"].split(\" - \")[0])\n",
        "          AssociatedSitesJP3.append(detail[\"value\"][\"title\"].split(\" - \")[1])\n",
        "\n",
        "    # Put a blank for status and production site when there is no record\n",
        "    if Statuscount==0:\n",
        "      StatusFR1.append(\"\")\n",
        "      StatusJP1.append(\"\")\n",
        "      StatusFR2.append(\"\")\n",
        "      StatusJP2.append(\"\")\n",
        "    if Statuscount==1:\n",
        "      StatusFR2.append(\"\")\n",
        "      StatusJP2.append(\"\")\n",
        "\n",
        "    if Sitecount== 0:\n",
        "      AssociatedSitesFR1.append(\"\")\n",
        "      AssociatedSitesJP1.append(\"\")\n",
        "      AssociatedSitesFR2.append(\"\")\n",
        "      AssociatedSitesJP2.append(\"\")\n",
        "      AssociatedSitesFR3.append(\"\")\n",
        "      AssociatedSitesJP3.append(\"\")\n",
        "\n",
        "    if Sitecount== 1:\n",
        "      AssociatedSitesFR2.append(\"\")\n",
        "      AssociatedSitesJP2.append(\"\")\n",
        "      AssociatedSitesFR3.append(\"\")\n",
        "      AssociatedSitesJP3.append(\"\")\n",
        "\n",
        "    if Sitecount== 2:\n",
        "      AssociatedSitesFR3.append(\"\")\n",
        "      AssociatedSitesJP3.append(\"\")\n",
        "\n",
        "Actor_df = pd.DataFrame(list(zip(Actors,NameFR,NameJP,Domains,Provinces,StatusFR1,StatusJP1,StatusFR2,StatusJP2,AssociatedSitesFR1,AssociatedSitesJP1,AssociatedSitesFR2,AssociatedSitesJP2,AssociatedSitesFR3,AssociatedSitesJP3)),\n",
        "                columns =['Acteur', \"Nom acteur FR\",\"Nom acteur JP\",\"Domain\",\"Province\",\"Statut de l'acteur FR 1\",\"Statut de l'acteur JP 1\",\"Statut de l'acteur FR 2\",\"Statut de l'acteur JP 2\",\"Site associé FR 1\",\"Site associé JP 1\",\"Site associé FR 2\",\"Site associé JP 2\",\"Site associé FR 3\",\"Site associé JP 3\"])\n",
        "\n",
        "f.close()"
      ],
      "metadata": {
        "id": "KqRmT6nN7QL_"
      },
      "execution_count": 8,
      "outputs": []
    },
    {
      "cell_type": "code",
      "source": [
        "# Merge datafrane for meetings and actors\n",
        "df = df.merge(Actor_df,left_on =\"Acteur\",right_on=\"Acteur\", how =\"left\")"
      ],
      "metadata": {
        "id": "IqWIgxIOEJzq"
      },
      "execution_count": 9,
      "outputs": []
    },
    {
      "cell_type": "code",
      "source": [
        "# Create a new column with number of times an actor have been to a meeting\n",
        "Actors=df[\"Acteur\"].value_counts().index\n",
        "N_participation=df[\"Acteur\"].value_counts().values\n",
        "\n",
        "df[\"Participation\"] = 0\n",
        "for i, actor in enumerate (Actors):\n",
        "  df.sort_values(by=\"Année\",inplace=True)\n",
        "  df.loc[df[\"Acteur\"]==actor,\"Participation\"]= range(1, N_participation[i] + 1)\n",
        "\n",
        "# Create a new column for checking if the province of meeting and the actor is the same\n",
        "df[\"Même province\"] = False\n",
        "df.loc[df[\"Province\"]==df[\"Province de réunion\"],\"Même province\"] = True"
      ],
      "metadata": {
        "id": "jDMBr7ei3zk1"
      },
      "execution_count": 10,
      "outputs": []
    },
    {
      "cell_type": "code",
      "source": [
        "# Save the dataframe to CSV\n",
        "df.to_csv(\"Alliance_des_10_provinces_cleaned.csv\",index=False)"
      ],
      "metadata": {
        "id": "EVeLpHDO41hf"
      },
      "execution_count": 14,
      "outputs": []
    },
    {
      "cell_type": "code",
      "source": [
        "len(df)"
      ],
      "metadata": {
        "colab": {
          "base_uri": "https://localhost:8080/"
        },
        "id": "BQWH6m1U-njl",
        "outputId": "705854a1-5e4e-4f56-f3ad-c2889961e10c"
      },
      "execution_count": 11,
      "outputs": [
        {
          "output_type": "execute_result",
          "data": {
            "text/plain": [
              "473"
            ]
          },
          "metadata": {},
          "execution_count": 11
        }
      ]
    }
  ]
}